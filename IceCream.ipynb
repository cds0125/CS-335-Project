{
 "cells": [
  {
   "cell_type": "markdown",
   "metadata": {},
   "source": [
    "# Ice Cream Parlor"
   ]
  },
  {
   "cell_type": "markdown",
   "metadata": {},
   "source": [
    "class IceCreamOrder\n",
    "---"
   ]
  },
  {
   "cell_type": "code",
   "execution_count": null,
   "metadata": {},
   "outputs": [],
   "source": [
    "import random\n",
    "import time\n",
    "\n",
    "class IceCreamOrder:\n",
    "#Constructor\n",
    "    def __init__(self):\n",
    "        #The order number\n",
    "        self.orderNum = 1\n",
    "        #The number of scoops in the order, which can be 1, 2, or 3 scoops\n",
    "        #Defaulting as 1, but will randomly generated for each order\n",
    "        self.scoops = 1\n",
    "        \n",
    "        #Options at the Ice Cream Parlor\n",
    "        self.listOfFlavors = [\"Vanilla\", \"Chocolate\", \"Strawberry\"]\n",
    "        self.listOfToppings = [\"Sprinkles\", \"Chocolate Chips\", \"Cherry\", \"No Topping\"]\n",
    "        self.listOfConesAndCup = [\"Waffle Cone\", \"Cake Cone\", \"Cup\"]\n",
    "        \n",
    "        #Default Order\n",
    "        self.orderFlavors = [\"\", \"\", \"\"]\n",
    "        self.orderToppings = [\"\", \"\", \"\"]\n",
    "        self.orderContainer = \"\"\n",
    "        \n",
    "#Method: Get the randomly generated ice cream order\n",
    "    def takeOrder(self):\n",
    "        #Get the number of scoops\n",
    "        self.scoops = random.randrange(1,4)\n",
    "        #Get what the ice cream is put in\n",
    "        self.orderContainer = random.choice(self.listOfConesAndCup)\n",
    "        #Get each scoop of ice cream and its topping\n",
    "        for x in range(3):\n",
    "            #Will always get at least one scoop of ice cream\n",
    "            self.orderFlavors[x] = random.choice(self.listOfFlavors)\n",
    "            self.orderToppings[x] = random.choice(self.listOfToppings)\n",
    "            #A cherry can only go on the top scoop (when x = 0)\n",
    "            while x != 0:\n",
    "                if self.orderToppings[x] == \"Cherry\":\n",
    "                    self.orderToppings[x] = random.choice(self.listOfToppings)\n",
    "                else:\n",
    "                    break\n",
    "            #Stop when the predetermined number of scoops are generated\n",
    "            if x == self.scoops - 1:\n",
    "                break\n",
    "\n",
    "#Method: Print the order\n",
    "    def printOrder(self):\n",
    "        #Instructions on how the ice cream scoops are stacked\n",
    "        if self.orderNum == 1:\n",
    "            print('Scoops are listed from top to bottom. Ex. Scoop 1 is the TOP scoop.\\n')\n",
    "        else:\n",
    "            #Wait for 5 seconds between orders\n",
    "            print('\\nTaking the next order...\\n')\n",
    "            time.sleep(5)\n",
    "        #Print top of the order\n",
    "        #Includes: orderNum, number of scoops, and what the ice cream will be put in\n",
    "        if self.scoops == 1:\n",
    "            print(\n",
    "                f'Order #{self.orderNum}: {self.scoops} scoop in a {self.orderContainer.upper()} ↓'\n",
    "            )\n",
    "        else:\n",
    "            print(f'Order #{self.orderNum}: {self.scoops} scoops in a {self.orderContainer.upper()} ↓')\n",
    "        #For each scoop, print the ice cream flavor and the topping ('No Topping' if no topping)\n",
    "        print('#. Flavor \\t    \\t Topping')\n",
    "        #Get the order and print it\n",
    "        for x in range(3):\n",
    "            #An iteration loop to print the order\n",
    "            if self.orderToppings[x] == \"Cherry\":\n",
    "                print(f'{x + 1}. {self.orderFlavors[x]} \\twith\\t a {self.orderToppings[x]}')\n",
    "            else: \n",
    "                print(f'{x + 1}. {self.orderFlavors[x]} \\twith\\t {self.orderToppings[x]}')\n",
    "            #Exit the for loop when the requested number of scoops are created\n",
    "            #x is (0,3) and scoops can be (1,4), \n",
    "            #so scoops - 1 can be used to check if it is equal to x\n",
    "            if x == self.scoops - 1:\n",
    "                #Increase orderNum \n",
    "                self.orderNum += 1\n",
    "                break\n",
    "                "
   ]
  },
  {
   "cell_type": "markdown",
   "metadata": {},
   "source": [
    "Using class IceCreamOrder\n",
    "---"
   ]
  },
  {
   "cell_type": "code",
   "execution_count": 1,
   "metadata": {},
   "outputs": [
    {
     "name": "stdout",
     "output_type": "stream",
     "text": [
      "Scoops are listed from top to bottom. Ex. Scoop 1 is the TOP scoop.\n",
      "\n",
      "Order #1: 3 scoops in a CUP ↓\n",
      "#. Flavor \t    \t Topping\n",
      "1. Vanilla \twith\t Sprinkles\n",
      "2. Chocolate \twith\t Chocolate Chips\n",
      "3. Strawberry \twith\t No Topping\n",
      "Vanilla.png\n",
      "Sprinkles.png\n"
     ]
    },
    {
     "ename": "TypeError",
     "evalue": "'int' object does not support item assignment",
     "output_type": "error",
     "traceback": [
      "\u001b[1;31m---------------------------------------------------------------------------\u001b[0m",
      "\u001b[1;31mTypeError\u001b[0m                                 Traceback (most recent call last)",
      "\u001b[1;32mc:\\Users\\cdste\\PythonFiles\\CS 335 Project\\IceCream.ipynb Cell 5\u001b[0m line \u001b[0;36m6\n\u001b[0;32m      <a href='vscode-notebook-cell:/c%3A/Users/cdste/PythonFiles/CS%20335%20Project/IceCream.ipynb#W4sZmlsZQ%3D%3D?line=3'>4</a>\u001b[0m order\u001b[39m.\u001b[39mtakeOrder()\n\u001b[0;32m      <a href='vscode-notebook-cell:/c%3A/Users/cdste/PythonFiles/CS%20335%20Project/IceCream.ipynb#W4sZmlsZQ%3D%3D?line=4'>5</a>\u001b[0m order\u001b[39m.\u001b[39mprintOrder()\n\u001b[1;32m----> <a href='vscode-notebook-cell:/c%3A/Users/cdste/PythonFiles/CS%20335%20Project/IceCream.ipynb#W4sZmlsZQ%3D%3D?line=5'>6</a>\u001b[0m order\u001b[39m.\u001b[39;49mscoopImage()\n",
      "File \u001b[1;32mc:\\Users\\cdste\\PythonFiles\\CS 335 Project\\IceCreamOrder.py:108\u001b[0m, in \u001b[0;36mIceCreamOrder.scoopImage\u001b[1;34m(self)\u001b[0m\n\u001b[0;32m    106\u001b[0m     final2 \u001b[39m=\u001b[39m Image\u001b[39m.\u001b[39malpha_composite(final2, layer1)\n\u001b[0;32m    107\u001b[0m     final2 \u001b[39m=\u001b[39m Image\u001b[39m.\u001b[39malpha_composite(final2, layer2)\n\u001b[1;32m--> 108\u001b[0m \u001b[39mself\u001b[39;49m\u001b[39m.\u001b[39;49mscoops[x] \u001b[39m=\u001b[39m final2\n\u001b[0;32m    109\u001b[0m \u001b[39mself\u001b[39m\u001b[39m.\u001b[39mscoops[x]\u001b[39m.\u001b[39mshow()\n",
      "\u001b[1;31mTypeError\u001b[0m: 'int' object does not support item assignment"
     ]
    }
   ],
   "source": [
    "from IceCreamOrder import *\n",
    "\n",
    "order = IceCreamOrder()\n",
    "order.takeOrder()\n",
    "order.printOrder()\n",
    "order.scoopImage()"
   ]
  },
  {
   "cell_type": "markdown",
   "metadata": {},
   "source": [
    "GUI for Ice Cream Parlor\n",
    "---"
   ]
  },
  {
   "cell_type": "code",
   "execution_count": null,
   "metadata": {},
   "outputs": [],
   "source": [
    "import sys\n",
    "from PyQt6.QtWidgets import QApplication, QMainWindow, QPushButton\n",
    "from PyQt6.QtGui import QPixmap\n",
    "from PyQt6.QtCore import QLineF \n",
    "\n",
    "# Subclass QMainWindow to customize your application's main window\n",
    "class MainWindow(QMainWindow):\n",
    "    def __init__(self):\n",
    "        super().__init__()\n",
    "        \n",
    "        self.setWindowTitle(\"Ice Cream Parlor\")\n",
    "        \n",
    "        button      = QPushButton(self)\n",
    "        button.setGeometry(50, 50, 200, 100)\n",
    "\n",
    "        # Replace 'path_to_image' with the path to your image file\n",
    "        image_path  = 'path_to_image'\n",
    "        pixmap = QPixmap(image_path)\n",
    "\n",
    "        if pixmap.isNull():\n",
    "            print(\"Error loading image\")\n",
    "        else:\n",
    "            button.setIcon(pixmap)\n",
    "            button.setIconSize(pixmap.size())\n",
    "        \n",
    "        # Set the central widget of the Window\n",
    "        self.setCentralWidget(self.button)\n",
    "        \n",
    "    def the_button_was_released(self):\n",
    "        self.button_is_checked = self.button.isChecked()\n",
    "        print(self.button_is_checked)\n",
    "\n",
    "app     = QApplication(sys.argv)\n",
    "\n",
    "window  = MainWindow()\n",
    "window.show()\n",
    "\n",
    "app.exec()"
   ]
  },
  {
   "cell_type": "code",
   "execution_count": null,
   "metadata": {},
   "outputs": [],
   "source": [
    "from PIL import Image\n",
    "\n",
    "def changeImageSize(maxWidth, maxHeight, image):\n",
    "    # Ratios\n",
    "    widthRatio  = maxWidth/image.size[0]\n",
    "    heightRatio = maxHeight/image.size[1]\n",
    "\n",
    "    # New width and height of the new image\n",
    "    newWidth    = int(widthRatio*image.size[0])\n",
    "    newHeight   = int(heightRatio*image.size[1])\n",
    "\n",
    "    \n",
    "    return image.resize((newWidth, newHeight))\n",
    "\n",
    "image1 = Image.open(\"Vanilla.png\")\n",
    "image2 = Image.open(\"Chocolate Chips.png\")\n",
    "\n",
    "image3 = changeImageSize(346, 290, image1)\n",
    "image4 = changeImageSize(346, 290, image2)\n",
    "\n",
    "#image5 = image3.convert(\"RGBA\")\n",
    "#image6 = image4.convert(\"RGBA\")\n",
    "\n",
    "#alphaBlended1 = Image.blend(image5, image6, alpha=.2)\n",
    "alphaBlended2 = Image.blend(image4, image3, alpha=.4)\n",
    "\n",
    "alphaBlended2.show()"
   ]
  },
  {
   "cell_type": "code",
   "execution_count": null,
   "metadata": {},
   "outputs": [],
   "source": [
    "from PIL import Image\n",
    "\n",
    "layer1 = Image.open('Strawberry.png')\n",
    "layer2 = Image.open('Chocolate Chips.png')\n",
    "\n",
    "#Compositing image using Image.paste\n",
    "final1 = Image.new(\"RGBA\", layer1.size)\n",
    "final1.paste(layer1, (0,0), layer1)\n",
    "final1.paste(layer2, (0,0), layer2)\n",
    "\n",
    "#Compositing image using Image.alpha_composite\n",
    "final2 = Image.new(\"RGBA\", layer1.size)\n",
    "final2 = Image.alpha_composite(final2, layer1)\n",
    "final2 = Image.alpha_composite(final2, layer2)\n",
    "\n",
    "final2.show()"
   ]
  },
  {
   "cell_type": "code",
   "execution_count": null,
   "metadata": {},
   "outputs": [],
   "source": [
    "def get_concat_v_resize(im1, im2, resample=Image.BICUBIC, resize_big_image=True):\n",
    "    if im1.width == im2.width:\n",
    "        _im1 = im1\n",
    "        _im2 = im2\n",
    "    elif (((im1.width > im2.width) and resize_big_image) or\n",
    "          ((im1.width < im2.width) and not resize_big_image)):\n",
    "        _im1 = im1.resize((im2.width, int(im1.height * im2.width / im1.width)), resample=resample)\n",
    "        _im2 = im2\n",
    "    else:\n",
    "        _im1 = im1\n",
    "        _im2 = im2.resize((im1.width, int(im2.height * im1.width / im2.width)), resample=resample)\n",
    "    dst = Image.new('RGB', (_im1.width, _im1.height + _im2.height))\n",
    "    dst.paste(_im1, (0, 0))\n",
    "    dst.paste(_im2, (0, _im1.height))\n",
    "    return dst\n",
    "\n",
    "#get_concat_h_resize(im1, im2).save('data/dst/pillow_concat_h_resize.jpg')\n",
    "#get_concat_v_resize(im1, im2, resize_big_image=False).save('data/dst/pillow_concat_v_resize.jpg')"
   ]
  }
 ],
 "metadata": {
  "kernelspec": {
   "display_name": "Python 3",
   "language": "python",
   "name": "python3"
  },
  "language_info": {
   "codemirror_mode": {
    "name": "ipython",
    "version": 3
   },
   "file_extension": ".py",
   "mimetype": "text/x-python",
   "name": "python",
   "nbconvert_exporter": "python",
   "pygments_lexer": "ipython3",
   "version": "3.12.0"
  }
 },
 "nbformat": 4,
 "nbformat_minor": 2
}
